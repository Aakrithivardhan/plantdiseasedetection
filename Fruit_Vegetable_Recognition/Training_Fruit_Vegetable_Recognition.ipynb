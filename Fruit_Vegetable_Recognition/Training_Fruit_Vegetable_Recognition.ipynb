{
  "cells": [
    {
      "cell_type": "markdown",
      "metadata": {
        "id": "Kl9MuREIJzBW"
      },
      "source": [
        "# Importing Libraries"
      ]
    },
    {
      "cell_type": "code",
      "execution_count": 2,
      "metadata": {
        "colab": {
          "base_uri": "https://localhost:8080/"
        },
        "id": "O-xqxsxyJ4le",
        "outputId": "8b3d9b63-8cdd-4d48-c90b-ab5020217dd4"
      },
      "outputs": [
        {
          "name": "stdout",
          "output_type": "stream",
          "text": [
            "Drive already mounted at /content/drive; to attempt to forcibly remount, call drive.mount(\"/content/drive\", force_remount=True).\n"
          ]
        }
      ],
      "source": [
        "#Collecting Data from Google Drive\n",
        "from google.colab import drive\n",
        "drive.mount('/content/drive')"
      ]
    },
    {
      "cell_type": "markdown",
      "metadata": {},
      "source": [
        "Dataset Link: https://www.kaggle.com/datasets/kritikseth/fruit-and-vegetable-image-recognition"
      ]
    },
    {
      "cell_type": "code",
      "execution_count": 3,
      "metadata": {
        "id": "ciUe8h-CJzBY"
      },
      "outputs": [],
      "source": [
        "import numpy as np\n",
        "import tensorflow as tf\n",
        "from keras.preprocessing.image import ImageDataGenerator\n",
        "import matplotlib.pyplot as plt"
      ]
    },
    {
      "cell_type": "markdown",
      "metadata": {
        "id": "_gJ-K9RMJzBZ"
      },
      "source": [
        "# Data Preprocessing"
      ]
    },
    {
      "cell_type": "markdown",
      "metadata": {
        "id": "uNe-nQF5JzBZ"
      },
      "source": [
        "## Training Image preprocessing"
      ]
    },
    {
      "cell_type": "code",
      "execution_count": 4,
      "metadata": {
        "id": "qWcXKglWJzBZ"
      },
      "outputs": [],
      "source": [
        "# train_datagen = ImageDataGenerator(\n",
        "#         rescale=1./255,\n",
        "#         shear_range=0.2,\n",
        "#         zoom_range=0.2,\n",
        "#         horizontal_flip=True)\n",
        "# training_set = train_datagen.flow_from_directory(\n",
        "#                 '/content/drive/MyDrive/Fruit_Vegetable_Recognition/train',target_size=(64,64),batch_size=32,class_mode='categorical')"
      ]
    },
    {
      "cell_type": "code",
      "execution_count": 5,
      "metadata": {
        "colab": {
          "base_uri": "https://localhost:8080/"
        },
        "id": "Fi2yDKQC8MA5",
        "outputId": "fe02c91e-6198-4c8f-c9c9-f643080f132a"
      },
      "outputs": [
        {
          "name": "stdout",
          "output_type": "stream",
          "text": [
            "Found 3145 files belonging to 36 classes.\n"
          ]
        }
      ],
      "source": [
        "training_set = tf.keras.utils.image_dataset_from_directory(\n",
        "    '/content/drive/MyDrive/Fruit_Vegetable_Recognition/train',\n",
        "    labels=\"inferred\",\n",
        "    label_mode=\"categorical\",\n",
        "    class_names=None,\n",
        "    color_mode=\"rgb\",\n",
        "    batch_size=32,\n",
        "    image_size=(64, 64),\n",
        "    shuffle=True,\n",
        "    seed=None,\n",
        "    validation_split=None,\n",
        "    subset=None,\n",
        "    interpolation=\"bilinear\",\n",
        "    follow_links=False,\n",
        "    crop_to_aspect_ratio=False\n",
        ")"
      ]
    },
    {
      "cell_type": "markdown",
      "metadata": {
        "id": "WHTp5NRUJzBa"
      },
      "source": [
        "## Test Image preprocessing"
      ]
    },
    {
      "cell_type": "code",
      "execution_count": 6,
      "metadata": {
        "id": "5uc02BSMJzBa"
      },
      "outputs": [],
      "source": [
        "# test_datagen = ImageDataGenerator(rescale=1./255)\n",
        "# test_set = test_datagen.flow_from_directory('/content/drive/MyDrive/Fruit_Vegetable_Recognition/validation',target_size=(64,64),batch_size=32,class_mode='categorical')"
      ]
    },
    {
      "cell_type": "code",
      "execution_count": 7,
      "metadata": {
        "colab": {
          "base_uri": "https://localhost:8080/"
        },
        "id": "vE_p9-yI-RIm",
        "outputId": "e200b3b6-cb84-4d5c-c3ab-a1a97affaac2"
      },
      "outputs": [
        {
          "name": "stdout",
          "output_type": "stream",
          "text": [
            "Found 351 files belonging to 36 classes.\n"
          ]
        }
      ],
      "source": [
        "test_set = tf.keras.utils.image_dataset_from_directory(\n",
        "    '/content/drive/MyDrive/Fruit_Vegetable_Recognition/validation',\n",
        "    labels=\"inferred\",\n",
        "    label_mode=\"categorical\",\n",
        "    class_names=None,\n",
        "    color_mode=\"rgb\",\n",
        "    batch_size=32,\n",
        "    image_size=(64, 64),\n",
        "    shuffle=True,\n",
        "    seed=None,\n",
        "    validation_split=None,\n",
        "    subset=None,\n",
        "    interpolation=\"bilinear\",\n",
        "    follow_links=False,\n",
        "    crop_to_aspect_ratio=False\n",
        ")"
      ]
    },
    {
      "cell_type": "markdown",
      "metadata": {
        "id": "wK5xI2DKJzBb"
      },
      "source": [
        "# Building Model"
      ]
    },
    {
      "cell_type": "code",
      "execution_count": 8,
      "metadata": {
        "id": "s6R0r2WjJzBb"
      },
      "outputs": [],
      "source": [
        "cnn = tf.keras.models.Sequential()"
      ]
    },
    {
      "cell_type": "markdown",
      "metadata": {
        "id": "fU7G0HrRJzBb"
      },
      "source": [
        "## Building Convolution layer"
      ]
    },
    {
      "cell_type": "code",
      "execution_count": 9,
      "metadata": {
        "id": "Hww85BCFJzBb"
      },
      "outputs": [],
      "source": [
        "cnn.add(tf.keras.layers.Conv2D(filters=64,kernel_size=3,activation='relu',input_shape=[64,64,3]))\n",
        "cnn.add(tf.keras.layers.MaxPool2D(pool_size=2,strides=2))"
      ]
    },
    {
      "cell_type": "code",
      "execution_count": 10,
      "metadata": {
        "id": "xgm5hNdSJzBc"
      },
      "outputs": [],
      "source": [
        "cnn.add(tf.keras.layers.Conv2D(filters=64,kernel_size=3,activation='relu'))\n",
        "cnn.add(tf.keras.layers.MaxPool2D(pool_size=2,strides=2))"
      ]
    },
    {
      "cell_type": "code",
      "execution_count": 11,
      "metadata": {
        "id": "wej7UVWmJzBc"
      },
      "outputs": [],
      "source": [
        "cnn.add(tf.keras.layers.Dropout(0.5))"
      ]
    },
    {
      "cell_type": "code",
      "execution_count": 12,
      "metadata": {
        "id": "WauOUASzJzBc"
      },
      "outputs": [],
      "source": [
        "cnn.add(tf.keras.layers.Flatten())"
      ]
    },
    {
      "cell_type": "code",
      "execution_count": 13,
      "metadata": {
        "id": "RuYo4ztNJzBc"
      },
      "outputs": [],
      "source": [
        "cnn.add(tf.keras.layers.Dense(units=128,activation='relu'))"
      ]
    },
    {
      "cell_type": "code",
      "execution_count": 14,
      "metadata": {
        "id": "IkEIGBRdJzBc"
      },
      "outputs": [],
      "source": [
        "cnn.add(tf.keras.layers.Dense(units=36,activation='softmax'))"
      ]
    },
    {
      "cell_type": "markdown",
      "metadata": {
        "id": "0MWT5OCNJzBc"
      },
      "source": [
        "## Compiling and Training Phase"
      ]
    },
    {
      "cell_type": "code",
      "execution_count": 15,
      "metadata": {
        "id": "ZIBuTUFNJzBc"
      },
      "outputs": [],
      "source": [
        "cnn.compile(optimizer='rmsprop',loss='categorical_crossentropy', metrics=['accuracy'])"
      ]
    },
    {
      "cell_type": "code",
      "execution_count": 16,
      "metadata": {
        "colab": {
          "base_uri": "https://localhost:8080/"
        },
        "id": "SFyEWrhqJzBd",
        "outputId": "0342b1e7-a310-44e2-a5e0-dbac2ebc215d"
      },
      "outputs": [
        {
          "name": "stdout",
          "output_type": "stream",
          "text": [
            "Epoch 1/30\n",
            "99/99 [==============================] - 114s 1s/step - loss: 9.5404 - accuracy: 0.0385 - val_loss: 3.5294 - val_accuracy: 0.0855\n",
            "Epoch 2/30\n",
            "99/99 [==============================] - 114s 1s/step - loss: 3.8935 - accuracy: 0.0645 - val_loss: 3.4519 - val_accuracy: 0.1140\n",
            "Epoch 3/30\n",
            "99/99 [==============================] - 119s 1s/step - loss: 3.6821 - accuracy: 0.0941 - val_loss: 3.1617 - val_accuracy: 0.2422\n",
            "Epoch 4/30\n",
            "99/99 [==============================] - 115s 1s/step - loss: 3.8920 - accuracy: 0.1402 - val_loss: 2.8307 - val_accuracy: 0.3390\n",
            "Epoch 5/30\n",
            "99/99 [==============================] - 109s 1s/step - loss: 3.4409 - accuracy: 0.1965 - val_loss: 2.8508 - val_accuracy: 0.2849\n",
            "Epoch 6/30\n",
            "99/99 [==============================] - 109s 1s/step - loss: 2.9838 - accuracy: 0.2499 - val_loss: 9.7134 - val_accuracy: 0.1709\n",
            "Epoch 7/30\n",
            "99/99 [==============================] - 112s 1s/step - loss: 2.7794 - accuracy: 0.3246 - val_loss: 2.1015 - val_accuracy: 0.5385\n",
            "Epoch 8/30\n",
            "99/99 [==============================] - 113s 1s/step - loss: 2.4668 - accuracy: 0.3797 - val_loss: 2.1285 - val_accuracy: 0.5613\n",
            "Epoch 9/30\n",
            "99/99 [==============================] - 112s 1s/step - loss: 2.6251 - accuracy: 0.4308 - val_loss: 2.5957 - val_accuracy: 0.5128\n",
            "Epoch 10/30\n",
            "99/99 [==============================] - 108s 1s/step - loss: 2.5455 - accuracy: 0.4789 - val_loss: 1.7146 - val_accuracy: 0.6752\n",
            "Epoch 11/30\n",
            "99/99 [==============================] - 108s 1s/step - loss: 2.0876 - accuracy: 0.5355 - val_loss: 2.0197 - val_accuracy: 0.6496\n",
            "Epoch 12/30\n",
            "99/99 [==============================] - 115s 1s/step - loss: 2.1246 - accuracy: 0.5504 - val_loss: 2.0815 - val_accuracy: 0.6752\n",
            "Epoch 13/30\n",
            "99/99 [==============================] - 109s 1s/step - loss: 2.6816 - accuracy: 0.5660 - val_loss: 4.4499 - val_accuracy: 0.5100\n",
            "Epoch 14/30\n",
            "99/99 [==============================] - 108s 1s/step - loss: 1.9427 - accuracy: 0.5825 - val_loss: 2.5847 - val_accuracy: 0.6097\n",
            "Epoch 15/30\n",
            "99/99 [==============================] - 106s 1s/step - loss: 1.6936 - accuracy: 0.6452 - val_loss: 3.3950 - val_accuracy: 0.6524\n",
            "Epoch 16/30\n",
            "99/99 [==============================] - 105s 1s/step - loss: 1.5967 - accuracy: 0.6582 - val_loss: 9.3377 - val_accuracy: 0.3134\n",
            "Epoch 17/30\n",
            "99/99 [==============================] - 114s 1s/step - loss: 1.7817 - accuracy: 0.6865 - val_loss: 2.0159 - val_accuracy: 0.7265\n",
            "Epoch 18/30\n",
            "99/99 [==============================] - 111s 1s/step - loss: 1.3353 - accuracy: 0.7132 - val_loss: 11.5983 - val_accuracy: 0.4444\n",
            "Epoch 19/30\n",
            "99/99 [==============================] - 114s 1s/step - loss: 1.4734 - accuracy: 0.7297 - val_loss: 1.5983 - val_accuracy: 0.8462\n",
            "Epoch 20/30\n",
            "99/99 [==============================] - 111s 1s/step - loss: 1.3501 - accuracy: 0.7215 - val_loss: 1.9481 - val_accuracy: 0.8405\n",
            "Epoch 21/30\n",
            "99/99 [==============================] - 112s 1s/step - loss: 1.2133 - accuracy: 0.7437 - val_loss: 2.5679 - val_accuracy: 0.6866\n",
            "Epoch 22/30\n",
            "99/99 [==============================] - 119s 1s/step - loss: 1.2713 - accuracy: 0.7698 - val_loss: 1.5745 - val_accuracy: 0.8775\n",
            "Epoch 23/30\n",
            "99/99 [==============================] - 110s 1s/step - loss: 1.2122 - accuracy: 0.7714 - val_loss: 4.7227 - val_accuracy: 0.6667\n",
            "Epoch 24/30\n",
            "99/99 [==============================] - 111s 1s/step - loss: 1.1074 - accuracy: 0.7921 - val_loss: 10.8114 - val_accuracy: 0.4815\n",
            "Epoch 25/30\n",
            "99/99 [==============================] - 103s 997ms/step - loss: 1.1580 - accuracy: 0.8035 - val_loss: 2.0615 - val_accuracy: 0.8917\n",
            "Epoch 26/30\n",
            "99/99 [==============================] - 117s 1s/step - loss: 1.0286 - accuracy: 0.8051 - val_loss: 1.5308 - val_accuracy: 0.8946\n",
            "Epoch 27/30\n",
            "99/99 [==============================] - 109s 1s/step - loss: 1.0596 - accuracy: 0.7981 - val_loss: 1.4173 - val_accuracy: 0.9060\n",
            "Epoch 28/30\n",
            "99/99 [==============================] - 104s 1s/step - loss: 1.1622 - accuracy: 0.8114 - val_loss: 2.2320 - val_accuracy: 0.8946\n",
            "Epoch 29/30\n",
            "99/99 [==============================] - 105s 1s/step - loss: 1.0447 - accuracy: 0.8353 - val_loss: 1.6046 - val_accuracy: 0.8462\n",
            "Epoch 30/30\n",
            "99/99 [==============================] - 104s 1s/step - loss: 0.9915 - accuracy: 0.8267 - val_loss: 1.7324 - val_accuracy: 0.9031\n"
          ]
        }
      ],
      "source": [
        "training_history = cnn.fit(x=training_set,validation_data=test_set,epochs=30)"
      ]
    },
    {
      "cell_type": "markdown",
      "metadata": {
        "id": "EGw7pvyAJzBd"
      },
      "source": [
        "## Saving Model"
      ]
    },
    {
      "cell_type": "code",
      "execution_count": 17,
      "metadata": {
        "id": "wRv0ZCuQJzBd"
      },
      "outputs": [],
      "source": [
        "cnn.save(\"trained_model.h5\")"
      ]
    },
    {
      "cell_type": "code",
      "execution_count": 22,
      "metadata": {
        "id": "YcS4x2djdLr4"
      },
      "outputs": [],
      "source": [
        "#Recording History\n",
        "import json\n",
        "with open('training_hist.json', 'w') as f:\n",
        "    json.dump(training_history.history, f)"
      ]
    },
    {
      "cell_type": "code",
      "execution_count": 18,
      "metadata": {
        "colab": {
          "base_uri": "https://localhost:8080/"
        },
        "id": "nmfYMD3G6E5S",
        "outputId": "400bc9bd-9ea9-4a80-d11a-f6af09b2e004"
      },
      "outputs": [
        {
          "data": {
            "text/plain": [
              "{'loss': [9.540384292602539,\n",
              "  3.893489360809326,\n",
              "  3.682084321975708,\n",
              "  3.891995668411255,\n",
              "  3.4409213066101074,\n",
              "  2.983830451965332,\n",
              "  2.779435873031616,\n",
              "  2.4667694568634033,\n",
              "  2.625107765197754,\n",
              "  2.545518636703491,\n",
              "  2.0875699520111084,\n",
              "  2.1245787143707275,\n",
              "  2.681596517562866,\n",
              "  1.9427392482757568,\n",
              "  1.69363272190094,\n",
              "  1.5967098474502563,\n",
              "  1.7817137241363525,\n",
              "  1.3353188037872314,\n",
              "  1.4733896255493164,\n",
              "  1.3500674962997437,\n",
              "  1.2133033275604248,\n",
              "  1.271291732788086,\n",
              "  1.2122368812561035,\n",
              "  1.1074169874191284,\n",
              "  1.1579723358154297,\n",
              "  1.0286403894424438,\n",
              "  1.059586763381958,\n",
              "  1.1621503829956055,\n",
              "  1.0446745157241821,\n",
              "  0.9915093183517456],\n",
              " 'accuracy': [0.038473766297101974,\n",
              "  0.06454689800739288,\n",
              "  0.0941176488995552,\n",
              "  0.14022257924079895,\n",
              "  0.19650238752365112,\n",
              "  0.24992050230503082,\n",
              "  0.3246423006057739,\n",
              "  0.3796502351760864,\n",
              "  0.4308426082134247,\n",
              "  0.47885531187057495,\n",
              "  0.5354530811309814,\n",
              "  0.5503974556922913,\n",
              "  0.5659777522087097,\n",
              "  0.5825119018554688,\n",
              "  0.6451510190963745,\n",
              "  0.6581876277923584,\n",
              "  0.6864864826202393,\n",
              "  0.7131955623626709,\n",
              "  0.7297297120094299,\n",
              "  0.7214626669883728,\n",
              "  0.7437201738357544,\n",
              "  0.7697933316230774,\n",
              "  0.7713831663131714,\n",
              "  0.7920508980751038,\n",
              "  0.8034976124763489,\n",
              "  0.8050874471664429,\n",
              "  0.7980921864509583,\n",
              "  0.8114467263221741,\n",
              "  0.8352941274642944,\n",
              "  0.8267090916633606],\n",
              " 'val_loss': [3.529433488845825,\n",
              "  3.451939821243286,\n",
              "  3.1617348194122314,\n",
              "  2.830697536468506,\n",
              "  2.8507864475250244,\n",
              "  9.713354110717773,\n",
              "  2.101512908935547,\n",
              "  2.1284708976745605,\n",
              "  2.5957260131835938,\n",
              "  1.7146145105361938,\n",
              "  2.019709587097168,\n",
              "  2.0814740657806396,\n",
              "  4.449944972991943,\n",
              "  2.5847113132476807,\n",
              "  3.394984006881714,\n",
              "  9.337665557861328,\n",
              "  2.0158841609954834,\n",
              "  11.59827709197998,\n",
              "  1.5982624292373657,\n",
              "  1.9481405019760132,\n",
              "  2.567861318588257,\n",
              "  1.5744576454162598,\n",
              "  4.722670555114746,\n",
              "  10.811359405517578,\n",
              "  2.061492681503296,\n",
              "  1.53077232837677,\n",
              "  1.4172606468200684,\n",
              "  2.2320046424865723,\n",
              "  1.6045619249343872,\n",
              "  1.7323752641677856],\n",
              " 'val_accuracy': [0.08547008782625198,\n",
              "  0.11396011710166931,\n",
              "  0.2421652376651764,\n",
              "  0.3390313386917114,\n",
              "  0.2849002778530121,\n",
              "  0.17094017565250397,\n",
              "  0.5384615659713745,\n",
              "  0.561253547668457,\n",
              "  0.5128205418586731,\n",
              "  0.6752136945724487,\n",
              "  0.6495726704597473,\n",
              "  0.6752136945724487,\n",
              "  0.5099714994430542,\n",
              "  0.6096866130828857,\n",
              "  0.6524216532707214,\n",
              "  0.31339031457901,\n",
              "  0.7264957427978516,\n",
              "  0.4444444477558136,\n",
              "  0.8461538553237915,\n",
              "  0.8404558300971985,\n",
              "  0.68660968542099,\n",
              "  0.8774929046630859,\n",
              "  0.6666666865348816,\n",
              "  0.48148149251937866,\n",
              "  0.8917378783226013,\n",
              "  0.8945869207382202,\n",
              "  0.9059829115867615,\n",
              "  0.8945869207382202,\n",
              "  0.8461538553237915,\n",
              "  0.9031339287757874]}"
            ]
          },
          "execution_count": 18,
          "metadata": {},
          "output_type": "execute_result"
        }
      ],
      "source": [
        "training_history.history"
      ]
    },
    {
      "cell_type": "code",
      "execution_count": 19,
      "metadata": {
        "colab": {
          "base_uri": "https://localhost:8080/"
        },
        "id": "u44a8941JzBd",
        "outputId": "e041f3b4-dd19-42ab-d905-91f55478e2ce"
      },
      "outputs": [
        {
          "name": "stdout",
          "output_type": "stream",
          "text": [
            "dict_keys(['loss', 'accuracy', 'val_loss', 'val_accuracy'])\n"
          ]
        }
      ],
      "source": [
        "print(training_history.history.keys())"
      ]
    },
    {
      "cell_type": "markdown",
      "metadata": {
        "id": "XnqnaKd7JzBd"
      },
      "source": [
        "## Calculating Accuracy of Model Achieved on Test set"
      ]
    },
    {
      "cell_type": "code",
      "execution_count": 20,
      "metadata": {
        "colab": {
          "base_uri": "https://localhost:8080/"
        },
        "id": "fQ1gh7PbJzBe",
        "outputId": "30803083-c6a7-4549-f416-7a12a81d86a5"
      },
      "outputs": [
        {
          "name": "stdout",
          "output_type": "stream",
          "text": [
            "Test set Accuracy: 90.31339287757874 %\n"
          ]
        }
      ],
      "source": [
        "print('Test set Accuracy: {} %'.format(training_history.history['val_accuracy'][-1]*100))"
      ]
    },
    {
      "cell_type": "markdown",
      "metadata": {
        "id": "UDFUg3izJzBe"
      },
      "source": [
        "# Accuracy Visualization"
      ]
    },
    {
      "cell_type": "markdown",
      "metadata": {
        "id": "IK-gywIEJzBe"
      },
      "source": [
        "## Training Visualization"
      ]
    },
    {
      "cell_type": "code",
      "execution_count": 23,
      "metadata": {
        "colab": {
          "base_uri": "https://localhost:8080/",
          "height": 295
        },
        "id": "wQfMCiLjJzBe",
        "outputId": "6ade043f-ad84-4137-cdbf-528d10046596"
      },
      "outputs": [
        {
          "data": {
            "image/png": "[encoded data removed]",
            "text/plain": [
              "<Figure size 432x288 with 1 Axes>"
            ]
          },
          "metadata": {
            "needs_background": "light"
          },
          "output_type": "display_data"
        }
      ],
      "source": [
        "epochs=[i for i in range(1,31)]\n",
        "plt.plot(epochs,training_history.history['accuracy'],color='red')\n",
        "plt.xlabel('Epochs')\n",
        "plt.ylabel('Training Accuracy')\n",
        "plt.title(\"Visualization of Training Accuracy Result\")\n",
        "plt.show()"
      ]
    },
    {
      "cell_type": "markdown",
      "metadata": {
        "id": "qWuL5BmIJzBe"
      },
      "source": [
        "## Validation Visualization"
      ]
    },
    {
      "cell_type": "code",
      "execution_count": 24,
      "metadata": {
        "colab": {
          "base_uri": "https://localhost:8080/",
          "height": 295
        },
        "id": "wattMEbmJzBe",
        "outputId": "e15d2033-c36b-43f3-b0b6-27337d7b6f56"
      },
      "outputs": [
        {
          "data": {
            "image/png": "[encoded data removed]",
            "text/plain": [
              "<Figure size 432x288 with 1 Axes>"
            ]
          },
          "metadata": {
            "needs_background": "light"
          },
          "output_type": "display_data"
        }
      ],
      "source": [
        "plt.plot(epochs,training_history.history['val_accuracy'],color='cyan')\n",
        "plt.xlabel('Epochs')\n",
        "plt.ylabel('Validation Accuracy')\n",
        "plt.title(\"Visualization of Validation Accuracy Result\")\n",
        "plt.show()"
      ]
    }
  ],
  "metadata": {
    "colab": {
      "collapsed_sections": [],
      "provenance": []
    },
    "kernelspec": {
      "display_name": "Python 3 (ipykernel)",
      "language": "python",
      "name": "python3"
    },
    "language_info": {
      "codemirror_mode": {
        "name": "ipython",
        "version": 3
      },
      "file_extension": ".py",
      "mimetype": "text/x-python",
      "name": "python",
      "nbconvert_exporter": "python",
      "pygments_lexer": "ipython3",
      "version": "3.10.6"
    }
  },
  "nbformat": 4,
  "nbformat_minor": 0
}
